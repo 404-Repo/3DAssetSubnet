{
 "cells": [
  {
   "cell_type": "code",
   "execution_count": null,
   "metadata": {},
   "outputs": [],
   "source": [
    "from src.shape import ShapE"
   ]
  },
  {
   "cell_type": "code",
   "execution_count": 8,
   "metadata": {},
   "outputs": [],
   "source": [
    "shape = ShapE()"
   ]
  },
  {
   "cell_type": "code",
   "execution_count": 9,
   "metadata": {},
   "outputs": [
    {
     "data": {
      "application/vnd.jupyter.widget-view+json": {
       "model_id": "b541b05b2a6d495289e6567ffe9f4341",
       "version_major": 2,
       "version_minor": 0
      },
      "text/plain": [
       "  0%|          | 0/1 [00:00<?, ?it/s]"
      ]
     },
     "metadata": {},
     "output_type": "display_data"
    },
    {
     "name": "stderr",
     "output_type": "stream",
     "text": [
      "0.00s - Debugger warning: It seems that frozen modules are being used, which may\n",
      "0.00s - make the debugger miss breakpoints. Please pass -Xfrozen_modules=off\n",
      "0.00s - to python to disable frozen modules.\n",
      "0.00s - Note: Debugging will proceed. Set PYDEVD_DISABLE_FILE_VALIDATION=1 to disable this validation.\n"
     ]
    }
   ],
   "source": [
    "res = shape('/Users/xpitfire/Downloads/cat_image.jpeg')"
   ]
  },
  {
   "cell_type": "code",
   "execution_count": 14,
   "metadata": {},
   "outputs": [
    {
     "data": {
      "image/jpeg": "[encoded data removed]",
      "image/png": "[encoded data removed]",
      "text/plain": [
       "<PIL.Image.Image image mode=RGB size=64x64>"
      ]
     },
     "execution_count": 14,
     "metadata": {},
     "output_type": "execute_result"
    }
   ],
   "source": [
    "res[2]"
   ]
  },
  {
   "cell_type": "code",
   "execution_count": 1,
   "metadata": {},
   "outputs": [],
   "source": [
    "from src.func import RewardModel"
   ]
  },
  {
   "cell_type": "code",
   "execution_count": 2,
   "metadata": {},
   "outputs": [],
   "source": [
    "validator = RewardModel(metric='cosine', aggregation='mean')"
   ]
  },
  {
   "cell_type": "code",
   "execution_count": 3,
   "metadata": {},
   "outputs": [],
   "source": [
    "import numpy as np\n",
    "\n",
    "refs_texts = ['orange cat',\n",
    "              'cat lying in bed',\n",
    "              'cute kitten',\n",
    "              'a cat from the front',\n",
    "              'other']\n",
    "\n",
    "res_clip = validator.clip(['assets/img/cat.jpeg',\n",
    "                           'assets/img/steam_deck.jpg',\n",
    "                           'assets/img/dog.jpeg'],\n",
    "                          refs_texts)\n",
    "\n",
    "res_clip = np.array(res_clip)"
   ]
  },
  {
   "cell_type": "code",
   "execution_count": 4,
   "metadata": {},
   "outputs": [
    {
     "data": {
      "text/plain": [
       "array([[9.33048069e-01, 9.41380858e-03, 1.52694555e-02, 4.19678465e-02,\n",
       "        3.00800020e-04],\n",
       "       [1.42061962e-02, 2.84630107e-04, 1.51117845e-03, 1.09769646e-02,\n",
       "        9.73021030e-01],\n",
       "       [3.79682362e-01, 1.32316619e-03, 3.50327283e-01, 1.00345753e-01,\n",
       "        1.68321460e-01]], dtype=float32)"
      ]
     },
     "execution_count": 4,
     "metadata": {},
     "output_type": "execute_result"
    }
   ],
   "source": [
    "res_clip"
   ]
  },
  {
   "cell_type": "code",
   "execution_count": 5,
   "metadata": {},
   "outputs": [
    {
     "data": {
      "text/plain": [
       "array([0, 4, 0])"
      ]
     },
     "execution_count": 5,
     "metadata": {},
     "output_type": "execute_result"
    }
   ],
   "source": [
    "index = res_clip.argmax(axis=1)\n",
    "index"
   ]
  },
  {
   "cell_type": "code",
   "execution_count": 6,
   "metadata": {},
   "outputs": [
    {
     "data": {
      "text/plain": [
       "array([0.93304807, 0.97302103, 0.37968236], dtype=float32)"
      ]
     },
     "execution_count": 6,
     "metadata": {},
     "output_type": "execute_result"
    }
   ],
   "source": [
    "max_values = res_clip.max(axis=1)\n",
    "max_values"
   ]
  },
  {
   "cell_type": "code",
   "execution_count": 7,
   "metadata": {},
   "outputs": [
    {
     "data": {
      "text/plain": [
       "array([0.93304807, 0.        , 0.37968236], dtype=float32)"
      ]
     },
     "execution_count": 7,
     "metadata": {},
     "output_type": "execute_result"
    }
   ],
   "source": [
    "max_values[index == 4] = 0\n",
    "max_values"
   ]
  },
  {
   "cell_type": "code",
   "execution_count": 8,
   "metadata": {},
   "outputs": [
    {
     "name": "stderr",
     "output_type": "stream",
     "text": [
      "huggingface/tokenizers: The current process just got forked, after parallelism has already been used. Disabling parallelism to avoid deadlocks...\n",
      "To disable this warning, you can either:\n",
      "\t- Avoid using `tokenizers` before the fork if possible\n",
      "\t- Explicitly set the environment variable TOKENIZERS_PARALLELISM=(true | false)\n"
     ]
    },
    {
     "data": {
      "application/vnd.jupyter.widget-view+json": {
       "model_id": "a4881ff0e2f541fe802eb0dfd4d5e8c5",
       "version_major": 2,
       "version_minor": 0
      },
      "text/plain": [
       "Batches:   0%|          | 0/1 [00:00<?, ?it/s]"
      ]
     },
     "metadata": {},
     "output_type": "display_data"
    }
   ],
   "source": [
    "res_emb = validator.embed('cat lying in bed')"
   ]
  },
  {
   "cell_type": "code",
   "execution_count": 9,
   "metadata": {},
   "outputs": [
    {
     "data": {
      "text/plain": [
       "array([ 0.01101512, -0.05043096,  0.0021199 , -0.01135311,  0.02731842,\n",
       "        0.01787838, -0.01554478,  0.02341875, -0.01139169, -0.00331545,\n",
       "        0.06354364,  0.01190767, -0.04303485, -0.02473567, -0.01814181,\n",
       "        0.13683559,  0.01111524,  0.05122072,  0.04004744, -0.04699291],\n",
       "      dtype=float32)"
      ]
     },
     "execution_count": 9,
     "metadata": {},
     "output_type": "execute_result"
    }
   ],
   "source": [
    "res_emb[:20]"
   ]
  },
  {
   "cell_type": "code",
   "execution_count": 10,
   "metadata": {},
   "outputs": [],
   "source": [
    "import os\n",
    "path = \"assets/references\"\n",
    "ext  = \".jpg\"\n",
    "refs_imgs = []\n",
    "for file in os.listdir(path):\n",
    "    if file.endswith(ext):\n",
    "        refs_imgs.append(os.path.join(path, file))"
   ]
  },
  {
   "cell_type": "code",
   "execution_count": 11,
   "metadata": {},
   "outputs": [
    {
     "data": {
      "application/vnd.jupyter.widget-view+json": {
       "model_id": "022be1d7e1fd4908840fcf52f4e5b672",
       "version_major": 2,
       "version_minor": 0
      },
      "text/plain": [
       "Batches:   0%|          | 0/1 [00:00<?, ?it/s]"
      ]
     },
     "metadata": {},
     "output_type": "display_data"
    },
    {
     "data": {
      "application/vnd.jupyter.widget-view+json": {
       "model_id": "4672c078477f4a55b199e8d3edb42b33",
       "version_major": 2,
       "version_minor": 0
      },
      "text/plain": [
       "Batches:   0%|          | 0/1 [00:00<?, ?it/s]"
      ]
     },
     "metadata": {},
     "output_type": "display_data"
    },
    {
     "data": {
      "application/vnd.jupyter.widget-view+json": {
       "model_id": "6170400159ba4bcd857a6c3aa9fc93f7",
       "version_major": 2,
       "version_minor": 0
      },
      "text/plain": [
       "Batches:   0%|          | 0/1 [00:00<?, ?it/s]"
      ]
     },
     "metadata": {},
     "output_type": "display_data"
    }
   ],
   "source": [
    "scores = validator(images=['assets/img/cat.jpeg',\n",
    "                           'assets/img/steam_deck.jpg',\n",
    "                           'assets/img/dog.jpeg'],\n",
    "                   refs_images=refs_imgs,\n",
    "                   refs_texts=refs_texts)"
   ]
  },
  {
   "cell_type": "code",
   "execution_count": 18,
   "metadata": {},
   "outputs": [
    {
     "data": {
      "text/html": [
       "[[0.38619676 0.27239844 0.3414048 ]]"
      ],
      "text/plain": [
       "<class symai.symbol.Symbol at 0x178c9d4d0>(value=[[0.38619676 0.27239844 0.3414048 ]])"
      ]
     },
     "execution_count": 18,
     "metadata": {},
     "output_type": "execute_result"
    }
   ],
   "source": [
    "scores._metadata.sym1"
   ]
  },
  {
   "cell_type": "code",
   "execution_count": 19,
   "metadata": {},
   "outputs": [
    {
     "data": {
      "text/html": [
       "[[9.33048069e-01 9.41380858e-03 1.52694555e-02 4.19678465e-02\n",
       "  3.00800020e-04]\n",
       " [1.42061962e-02 2.84630107e-04 1.51117845e-03 1.09769646e-02\n",
       "  9.73021030e-01]\n",
       " [3.79682362e-01 1.32316619e-03 3.50327283e-01 1.00345753e-01\n",
       "  1.68321460e-01]]"
      ],
      "text/plain": [
       "<class symai.symbol.clip at 0x178c9d510>(value=[[9.33048069e-01 9.41380858e-03 1.52694555e-02 4.19678465e-02\n",
       "  3.00800020e-04]\n",
       " [1.42061962e-02 2.84630107e-04 1.51117845e-03 1.09769646e-02\n",
       "  9.73021030e-01]\n",
       " [3.79682362e-01 1.32316619e-03 3.50327283e-01 1.00345753e-01\n",
       "  1.68321460e-01]])"
      ]
     },
     "execution_count": 19,
     "metadata": {},
     "output_type": "execute_result"
    }
   ],
   "source": [
    "scores._metadata.sym2"
   ]
  },
  {
   "cell_type": "code",
   "execution_count": 14,
   "metadata": {},
   "outputs": [
    {
     "data": {
      "text/html": [
       "[0.52607581 0.18467526 0.28924893]"
      ],
      "text/plain": [
       "<class symai.symbol.Symbol at 0x175cf08d0>(value=[0.52607581 0.18467526 0.28924893])"
      ]
     },
     "execution_count": 14,
     "metadata": {},
     "output_type": "execute_result"
    }
   ],
   "source": [
    "scores"
   ]
  },
  {
   "cell_type": "code",
   "execution_count": 15,
   "metadata": {},
   "outputs": [
    {
     "data": {
      "text/plain": [
       "1.0000000000000002"
      ]
     },
     "execution_count": 15,
     "metadata": {},
     "output_type": "execute_result"
    }
   ],
   "source": [
    "scores.value.sum()"
   ]
  },
  {
   "cell_type": "code",
   "execution_count": null,
   "metadata": {},
   "outputs": [],
   "source": []
  }
 ],
 "metadata": {
  "kernelspec": {
   "display_name": "bittensor",
   "language": "python",
   "name": "python3"
  },
  "language_info": {
   "codemirror_mode": {
    "name": "ipython",
    "version": 3
   },
   "file_extension": ".py",
   "mimetype": "text/x-python",
   "name": "python",
   "nbconvert_exporter": "python",
   "pygments_lexer": "ipython3",
   "version": "3.11.5"
  }
 },
 "nbformat": 4,
 "nbformat_minor": 2
}
